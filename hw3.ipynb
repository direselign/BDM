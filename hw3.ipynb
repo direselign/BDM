{
 "cells": [
  {
   "cell_type": "code",
   "execution_count": 7,
   "metadata": {},
   "outputs": [
    {
     "data": {
      "text/plain": [
       "[\"Gold share prices closed mixed to slightly firmer in quiet and cautious trading, showing little reaction to a retreat in the bullion price back to below 420 dlrs and a firmer financial rand, dealers said. Heavyweight Vaal Reefs ended eight rand higher at 398 rand but Grootvlei eased 40 cents at 16.60 rand, while mining financials had Gold Fields up a rand at 63 rand despite weaker quarterly results. Other minings were firm but platinums eased. Industrials also closed mixed to firmer, the index once again hitting a new high of 1757 from Friday's 1753 finish. The overall index also hit a new high of 2188 versus 2179 on Friday. REUTER &#3;\",\n",
       " \"Feeder Cattle futures advanced 0.20 to 0.30 cent at the start and posted new season's highs in April through August and October before slipping to trade 0.10 cent lower to 0.20 higher in latest trade. Futures ran up to new highs at the start on general demand prompted by continued strong cattle fundamentals. Posting of another 10 cent gain in the latest reported average feeder steer price added to support, traders said. However, prices retreated on profit-taking following the lead of other meat pits. Stotler notably sold April on the decline, they said. Reuter &#3;\",\n",
       " '1000 hrs cdt MONTHS LAST DIFFERENCE Jul/May 3-1/4 over 3-1/2 over Dec/Jul 12-3/4 over 13 over Jul/Sep 4-3/4 under 5 under Sep/May no quote 8-1/4 over Sep/Dec no quote 8-1/4 under Dec/Mar8 no quote no quote May/Dec 16 under 16-1/2 under Reuter &#3;']"
      ]
     },
     "execution_count": 7,
     "metadata": {},
     "output_type": "execute_result"
    }
   ],
   "source": [
    "import re\n",
    "from time import time\n",
    "import numpy as np\n",
    "from operator import add\n",
    "\n",
    "data = sc.wholeTextFiles('dataset/reut2-*')\n",
    "newsArticles = data.map(lambda x:x[1]).flatMap(lambda x:x.split('<BODY>')[1:]).map(lambda x:x.split('</BODY>')[0])\\\n",
    "                   .map(lambda x:re.sub(' +', ' ', x.replace('\\n', ' ')))\n",
    "newsArticles.take(3)"
   ]
  },
  {
   "cell_type": "markdown",
   "metadata": {},
   "source": [
    "### Q#1. Given the Reuters-21578 dataset, please calculate all k-shingles and output the set representation of the text dataset as a matrix."
   ]
  },
  {
   "cell_type": "code",
   "execution_count": 8,
   "metadata": {},
   "outputs": [
    {
     "name": "stdout",
     "output_type": "stream",
     "text": [
      "Please Enter the K value of K-Shingles:- 3\n"
     ]
    }
   ],
   "source": [
    "#Enter the K value of K-Shingles from the user\n",
    "k=int(input(\"Please Enter the K value of K-Shingles:- \"))"
   ]
  },
  {
   "cell_type": "code",
   "execution_count": 9,
   "metadata": {},
   "outputs": [
    {
     "name": "stdout",
     "output_type": "stream",
     "text": [
      "different shingles--> 35077\n",
      "different articles--> 19043\n"
     ]
    }
   ],
   "source": [
    "shingles = newsArticles.flatMap(lambda x:[x[i:i+k] for i in range(len(x)-k+1)]).distinct()\n",
    "shingles_count = shingles.count()\n",
    "articles_count = newsArticles.count()\n",
    "print('different shingles-->',shingles_count)\n",
    "print('different articles-->',articles_count)"
   ]
  },
  {
   "cell_type": "code",
   "execution_count": 10,
   "metadata": {},
   "outputs": [],
   "source": [
    "newsArticles = newsArticles.collect()\n",
    "k_shingles_matrix = shingles.map(lambda s:[1 if s in a else 0 for a in newsArticles])\n",
    "k_shingles_matrix.coalesce(1).saveAsTextFile('tmp_hw3')\n",
    "\n",
    "'''\n",
    "move the file from tmp_hw3 folder to hw_3_result folder and rename the file finally delete the tmp_hw3 folder\n",
    "'''\n",
    "!mv tmp_hw3/part-00000 hw_3_result/k_shingles_matrix.txt\n",
    "!rm -rf tmp_hw3"
   ]
  },
  {
   "cell_type": "code",
   "execution_count": 18,
   "metadata": {},
   "outputs": [],
   "source": []
  },
  {
   "cell_type": "markdown",
   "metadata": {},
   "source": [
    "### Q2 Given the set representation, compute the minhash signatures of all documents using MapReduce."
   ]
  },
  {
   "cell_type": "code",
   "execution_count": 11,
   "metadata": {},
   "outputs": [],
   "source": [
    "def biggerThanNFirstPrime(N):\n",
    "    p = 2\n",
    "    while True:\n",
    "        isPrime = True\n",
    "        for i in range(2,p//2+1):\n",
    "            if(p%i==0):\n",
    "                isPrime = False\n",
    "                break\n",
    "        if isPrime and p > N:\n",
    "            return p\n",
    "        else:\n",
    "            p+=1"
   ]
  },
  {
   "cell_type": "code",
   "execution_count": 12,
   "metadata": {},
   "outputs": [
    {
     "name": "stdout",
     "output_type": "stream",
     "text": [
      "Please Enter the number of hash functions:- 100\n"
     ]
    }
   ],
   "source": [
    "#Take the number of randum hash functions from the user\n",
    "h=int(input(\"Please Enter the number of hash functions:- \"))"
   ]
  },
  {
   "cell_type": "code",
   "execution_count": 18,
   "metadata": {},
   "outputs": [],
   "source": [
    "import random\n",
    "a = [random.randint(0, h) for i in range(h)]\n",
    "b = [random.randint(0, h) for i in range(h)]\n",
    "p = biggerThanNFirstPrime(articles_count)\n",
    "N = articles_count\n",
    "\n",
    "def rowHash(row, a, b, p, N):\n",
    "    return ((a*row+b)%p)%N"
   ]
  },
  {
   "cell_type": "code",
   "execution_count": 23,
   "metadata": {},
   "outputs": [],
   "source": [
    "from time import clock\n",
    "minHashSignatures = list()\n",
    "#intialize time\n",
    "initial_time=time()\n",
    "kShinglesMatrixZipWithIndex = k_shingles_matrix.zipWithIndex().cache()\n",
    "for i in range(h):\n",
    "    minHashSignatures.append(kShinglesMatrixZipWithIndex\\\n",
    "                             .map(lambda x:[rowHash(x[1], a[i], b[i], p ,N) if c == 1 else (articles_count + 10) for c in x[0]])\\\n",
    "                             .reduce(lambda x, y:[Mx if Mx < My else My for Mx, My in zip(x, y)]))"
   ]
  },
  {
   "cell_type": "code",
   "execution_count": null,
   "metadata": {},
   "outputs": [],
   "source": [
    "with open('hw_3_result/min_hash_signatures.txt', 'w') as result:\n",
    "    for row in minHashSignatures:\n",
    "        result.write(str(row) + '\\n') "
   ]
  },
  {
   "cell_type": "markdown",
   "metadata": {},
   "source": [
    "#### Q#3 Implement the LSH algorithm by MapReduce and output the resulting candidate pairs of similar documents."
   ]
  },
  {
   "cell_type": "code",
   "execution_count": 37,
   "metadata": {},
   "outputs": [
    {
     "name": "stdout",
     "output_type": "stream",
     "text": [
      "Please Enter the band size:- 20\n"
     ]
    }
   ],
   "source": [
    "#please enter the band size from the user sample value 20\n",
    "bands=int(input(\"Please Enter the band size:- \"))"
   ]
  },
  {
   "cell_type": "code",
   "execution_count": null,
   "metadata": {},
   "outputs": [],
   "source": [
    "r = 5\n",
    "similarRate = 0.8\n",
    "buckets = articles_count\n",
    "hashFuct = [[random.randint(0, 100) for i in range(r + 1)] for j in range(bands)]\n",
    "\n",
    "with open('hw_3_result/candidate_pairs.txt', 'w') as result:\n",
    "    for i in range(articles_count):\n",
    "        candidatePairs = list()\n",
    "        for j in range(bands):\n",
    "            band = np.array(minHashSignatures[j*r:j*r+r]).T\n",
    "            band = [(np.array(article).dot(np.array(hashFuct[j][:r])) + hashFuct[j][-1]) % buckets for article in band]\n",
    "            for k, article in enumerate(band):\n",
    "                if k > i and article == band[i]:\n",
    "                    candidatePairs.append(k)\n",
    "        candidatePairs = [(article, candidatePairs.count(article)) for article in set(candidatePairs)]\n",
    "        candidatePairsTreshold = list()\n",
    "        for candidatePair in candidatePairs:\n",
    "            if candidatePair[1] >= bands*similarRate:\n",
    "                candidatePairsTreshold.append(candidatePair[0])\n",
    "        result.write('Articles' + str(i) + ':' + str(candidatePairsTreshold) + '\\n')"
   ]
  }
 ],
 "metadata": {
  "kernelspec": {
   "display_name": "Python 3",
   "language": "python",
   "name": "python3"
  },
  "language_info": {
   "codemirror_mode": {
    "name": "ipython",
    "version": 3
   },
   "file_extension": ".py",
   "mimetype": "text/x-python",
   "name": "python",
   "nbconvert_exporter": "python",
   "pygments_lexer": "ipython3",
   "version": "3.6.4"
  }
 },
 "nbformat": 4,
 "nbformat_minor": 2
}
